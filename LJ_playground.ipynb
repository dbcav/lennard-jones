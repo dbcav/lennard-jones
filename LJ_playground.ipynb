{
 "cells": [
  {
   "cell_type": "code",
   "execution_count": 5,
   "id": "3309194c",
   "metadata": {},
   "outputs": [],
   "source": [
    "##import everything\n",
    "import LJ_mol as LJ\n",
    "from LJ_mol import molecule as molecule\n",
    "import random\n",
    "import numpy as np\n",
    "import matplotlib.pyplot as plt\n",
    "import LJ_grid \n",
    "from LJ_grid import grid\n",
    "import time\n",
    "\n",
    "xlow = -1\n",
    "xup = 1\n",
    "ylow = -1 \n",
    "yup = 1"
   ]
  },
  {
   "cell_type": "markdown",
   "id": "36de52bd",
   "metadata": {},
   "source": [
    "# Test 1: Two particles attracting\n",
    "(Implicitly the cut-off distance is the length of the whole domain, which is very bad for computational efficiency but doesn't matter for a small number of particles)"
   ]
  },
  {
   "cell_type": "code",
   "execution_count": 59,
   "id": "4c2d01ec",
   "metadata": {},
   "outputs": [
    {
     "name": "stdout",
     "output_type": "stream",
     "text": [
      "[array([ 0.        , -0.22116933]), array([0.        , 0.22116933])]\n"
     ]
    },
    {
     "data": {
      "image/png": "[encoded data removed]",
      "text/plain": [
       "<Figure size 432x288 with 1 Axes>"
      ]
     },
     "metadata": {
      "needs_background": "light"
     },
     "output_type": "display_data"
    }
   ],
   "source": [
    "import LJ_grid \n",
    "from LJ_grid import grid\n",
    "n_part=2\n",
    "sigma=0.5\n",
    "eps=0.05\n",
    "positions = [[0,0.3],[0,-0.3]]\n",
    "\n",
    "\n",
    "mols = [molecule(pos=positions[i], sigma=sigma, eps=eps) for i in range(len(positions))]\n",
    "grid_x_steps = 1\n",
    "grid_y_steps = 1\n",
    "\n",
    "grid = grid(xlow=xlow, xup=xup, ylow=ylow, yup=yup, mols=mols, grid_x_steps=grid_x_steps,\n",
    "            grid_y_steps=grid_y_steps)\n",
    "grid.calc_pairlist()\n",
    "#print(\"DEBUGLIST \"+str(grid.debugpair))\n",
    "\n",
    "grid.updateForce()\n",
    "\n",
    "\n",
    "for i in range(len(positions)):\n",
    "   plt.scatter(positions[i][0],positions[i][1])\n",
    "plt.xlim((-1,1))\n",
    "plt.ylim((-1,1))\n",
    "\n",
    "\n",
    "V = [grid.mols[i].force for i in range(len(grid.mols))]\n",
    "print(V)\n",
    "origin = np.array([[grid.mols[i].pos[0] for i in range(len(grid.mols))],[grid.mols[i].pos[1] for i in range(len(grid.mols))]]) # origin point\n",
    "xcoord = [V[i][0] for i in range(len(V))]\n",
    "ycoord = [V[i][1] for i in range(len(V))]\n",
    "plt.quiver(*origin,xcoord, ycoord, color=['r','b','g'], alpha=0.5, scale=1)\n",
    "\n",
    "\n",
    "plt.gca().set_aspect('equal')\n",
    "plt.show()\n"
   ]
  },
  {
   "cell_type": "markdown",
   "id": "4daf38fc",
   "metadata": {},
   "source": [
    "# Test 2: 2 particles repelling"
   ]
  },
  {
   "cell_type": "code",
   "execution_count": 60,
   "id": "1f048e19",
   "metadata": {},
   "outputs": [
    {
     "name": "stdout",
     "output_type": "stream",
     "text": [
      "[array([0.        , 0.42827454]), array([ 0.        , -0.42827454])]\n"
     ]
    },
    {
     "data": {
      "image/png": "[encoded data removed]",
      "text/plain": [
       "<Figure size 432x288 with 1 Axes>"
      ]
     },
     "metadata": {
      "needs_background": "light"
     },
     "output_type": "display_data"
    }
   ],
   "source": [
    "import LJ_grid \n",
    "from LJ_grid import grid\n",
    "n_part=2\n",
    "sigma=0.5\n",
    "eps=0.00000003\n",
    "positions = [[0,0.1],[0,-0.1]]\n",
    "\n",
    "\n",
    "mols = [molecule(pos=positions[i], sigma=sigma, eps=eps) for i in range(len(positions))]\n",
    "grid_x_steps = 2\n",
    "grid_y_steps=2\n",
    "\n",
    "grid = grid(xlow=xlow, xup=xup, ylow=ylow, yup=yup, mols=mols, grid_x_steps=grid_x_steps,\n",
    "            grid_y_steps=grid_y_steps)#, cutoffdist=5)\n",
    "grid.calc_pairlist()\n",
    "\n",
    "grid.updateForce()\n",
    "\n",
    "\n",
    "for i in range(len(positions)):\n",
    "   plt.scatter(positions[i][0],positions[i][1])\n",
    "plt.xlim((-1,1))\n",
    "plt.ylim((-1,1))\n",
    "\n",
    "\n",
    "V = [grid.mols[i].force for i in range(len(grid.mols))]\n",
    "print(V)\n",
    "origin = np.array([[grid.mols[i].pos[0] for i in range(len(grid.mols))],[grid.mols[i].pos[1] for i in range(len(grid.mols))]]) # origin point\n",
    "xcoord = [V[i][0] for i in range(len(V))]\n",
    "ycoord = [V[i][1] for i in range(len(V))]\n",
    "plt.quiver(*origin,xcoord, ycoord, color=['r','b','g'], alpha=0.5, scale=1)\n",
    "\n",
    "\n",
    "plt.gca().set_aspect('equal')\n",
    "plt.show()\n"
   ]
  },
  {
   "cell_type": "markdown",
   "id": "151ac69a",
   "metadata": {},
   "source": [
    "# Test 3: 10k molecules randomly sampled\n",
    "Notice that grid_x_steps and grid_y_steps have been increased dramatically, which also means that we now have selected a cut-off distance of the domain length / grid steps (in our case, 2/40 = 0.05). (This takes somewhere around 6 seconds on my laptop)"
   ]
  },
  {
   "cell_type": "code",
   "execution_count": 61,
   "id": "6c26fea0",
   "metadata": {},
   "outputs": [
    {
     "name": "stdout",
     "output_type": "stream",
     "text": [
      "cell i= 0\n",
      "cell i= 100\n",
      "cell i= 200\n",
      "cell i= 300\n",
      "cell i= 400\n",
      "cell i= 500\n",
      "cell i= 600\n",
      "cell i= 700\n",
      "cell i= 800\n",
      "cell i= 900\n",
      "cell i= 1000\n",
      "cell i= 1100\n",
      "cell i= 1200\n",
      "cell i= 1300\n",
      "cell i= 1400\n",
      "cell i= 1500\n",
      "pairlist calculated\n",
      "Time to generate pair list: 2.4355341000045883\n",
      "Number of interacting pairs found: 95894\n",
      "Time to find forces of interacting molecules: 1.5959511999972165\n"
     ]
    }
   ],
   "source": [
    "import LJ_grid \n",
    "from LJ_grid import grid\n",
    "sigma=0.5\n",
    "eps=0.00000003\n",
    "\n",
    "random.seed(10)\n",
    "\n",
    "n_part = 10000\n",
    "positions_34 = [[random.uniform(xlow,xup), random.uniform(ylow,yup)] for i in range(0,n_part)]\n",
    "mols = [molecule(pos=positions_34[i], sigma=sigma, eps=eps) for i in range(len(positions_34))]\n",
    "grid_x_steps = 40\n",
    "grid_y_steps = 40\n",
    "\n",
    "grid = grid(xlow=xlow, xup=xup, ylow=ylow, yup=yup, mols=mols, grid_x_steps=grid_x_steps,\n",
    "            grid_y_steps=grid_y_steps, printflag=True)\n",
    "\n",
    "tic = time.perf_counter()\n",
    "grid.calc_pairlist()\n",
    "toc= time.perf_counter()\n",
    "print(\"Time to generate pair list: \"+str(toc-tic))\n",
    "print(\"Number of interacting pairs found: \"+str(len(grid.pairlist)))\n",
    "\n",
    "tic=time.perf_counter()\n",
    "grid.updateForce()\n",
    "toc = time.perf_counter()\n",
    "print(\"Time to find forces of interacting molecules: \"+str(toc-tic))\n",
    "\n"
   ]
  },
  {
   "cell_type": "markdown",
   "id": "b4a4d1c6",
   "metadata": {},
   "source": [
    "# Test 3: 10k molecules randomly sampled with bad cutoff\n",
    "Notice that grid_x_steps and grid_y_steps have been decreased (so the implicit cutoff distance is 2/20~= 0.1), but it has been manually overridden to be 0.05. We'll find the same number of pairs, but this search (i.e. generation of the pairlist) will be slower. (this takes around 12 seconds on my laptop)\n",
    "\n",
    "The force calculation time should be roughly the same (there's no real difference between this cell and the last wrt forces)"
   ]
  },
  {
   "cell_type": "code",
   "execution_count": 62,
   "id": "ac63adb1",
   "metadata": {},
   "outputs": [
    {
     "name": "stdout",
     "output_type": "stream",
     "text": [
      "Time to generate pair list: 8.715219899997464\n",
      "Number of interacting pairs found: 95894\n",
      "Time to find forces of interacting molecules: 1.6417364000080852\n"
     ]
    }
   ],
   "source": [
    "import LJ_grid \n",
    "from LJ_grid import grid\n",
    "\n",
    "sigma=0.05\n",
    "eps=0.00000003\n",
    "\n",
    "random.seed(10)\n",
    "mols = [molecule(pos=positions_34[i], sigma=sigma, eps=eps) for i in range(len(positions_34))]\n",
    "grid_x_steps = 20\n",
    "grid_y_steps = 20\n",
    "\n",
    "grid = grid(xlow=xlow, xup=xup, ylow=ylow, yup=yup, mols=mols, grid_x_steps=grid_x_steps,\n",
    "            grid_y_steps=grid_y_steps, cutoffdist=0.05)\n",
    "\n",
    "tic = time.perf_counter()\n",
    "grid.calc_pairlist()\n",
    "toc= time.perf_counter()\n",
    "print(\"Time to generate pair list: \"+str(toc-tic))\n",
    "assert(len(grid.pairlist)==95894)\n",
    "print(\"Number of interacting pairs found: \"+str(len(grid.pairlist)))\n",
    "\n",
    "tic=time.perf_counter()\n",
    "grid.updateForce()\n",
    "toc = time.perf_counter()\n",
    "print(\"Time to find forces of interacting molecules: \"+str(toc-tic))\n"
   ]
  },
  {
   "cell_type": "code",
   "execution_count": null,
   "id": "ef5eccb4",
   "metadata": {},
   "outputs": [],
   "source": []
  },
  {
   "cell_type": "code",
   "execution_count": null,
   "id": "ad081c9b",
   "metadata": {},
   "outputs": [],
   "source": []
  },
  {
   "cell_type": "code",
   "execution_count": null,
   "id": "9258adf5",
   "metadata": {},
   "outputs": [],
   "source": []
  },
  {
   "cell_type": "code",
   "execution_count": null,
   "id": "dc4b5c46",
   "metadata": {},
   "outputs": [],
   "source": []
  }
 ],
 "metadata": {
  "kernelspec": {
   "display_name": "Python 3",
   "language": "python",
   "name": "python3"
  },
  "language_info": {
   "codemirror_mode": {
    "name": "ipython",
    "version": 3
   },
   "file_extension": ".py",
   "mimetype": "text/x-python",
   "name": "python",
   "nbconvert_exporter": "python",
   "pygments_lexer": "ipython3",
   "version": "3.8.8"
  }
 },
 "nbformat": 4,
 "nbformat_minor": 5
}
